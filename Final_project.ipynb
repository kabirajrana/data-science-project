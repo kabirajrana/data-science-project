{
 "cells": [
  {
   "cell_type": "markdown",
   "id": "8ebe140c-68f8-4053-955c-ca9e08543ae7",
   "metadata": {},
   "source": [
    "# Data Science Final Project\n"
   ]
  },
  {
   "cell_type": "markdown",
   "id": "96625261-192a-46c7-a294-8ebca8da82d5",
   "metadata": {},
   "source": [
    "## Introduction\n",
    "This notebook covers the basics of data science, including languages, libraries, tools, and some simple calculations to demonstrate coding skills.\n"
   ]
  },
  {
   "cell_type": "markdown",
   "id": "78004e5f-cb2f-4c4a-802f-77039ab86637",
   "metadata": {},
   "source": [
    "## Data Science Languages\n",
    "- Python\n",
    "- R\n",
    "- SQL\n",
    "- Julia\n",
    "- Scala\n"
   ]
  },
  {
   "cell_type": "markdown",
   "id": "d10829e3-6262-42ac-99a2-cc2e20d0b72b",
   "metadata": {},
   "source": [
    "## Data Science Libraries\n",
    "- NumPy\n",
    "- Pandas\n",
    "- Matplotlib\n",
    "- Seaborn\n",
    "- Scikit-learn\n",
    "- TensorFlow\n"
   ]
  },
  {
   "cell_type": "markdown",
   "id": "3f7e8b77-131d-4bc8-9897-3b10f2671157",
   "metadata": {},
   "source": [
    "| Tool         | Description                       |\n",
    "| ------------ | --------------------------------- |\n",
    "| Jupyter      | Interactive computing notebooks   |\n",
    "| GitHub       | Version control and collaboration |\n",
    "| VS Code      | Code editor with extensions       |\n",
    "| Tableau      | Data visualization tool           |\n",
    "| Apache Spark | Big data processing framework     |\n"
   ]
  },
  {
   "cell_type": "markdown",
   "id": "c7f435f2-ca7d-4f1d-9797-e4e90a612c5e",
   "metadata": {},
   "source": [
    "## Arithmetic Expression Examples\n",
    "Below are some simple examples demonstrating arithmetic operations in Python.\n"
   ]
  },
  {
   "cell_type": "code",
   "execution_count": 1,
   "id": "9ec5cd2b-c275-4155-a2b2-eb855ebd7fb8",
   "metadata": {},
   "outputs": [
    {
     "data": {
      "text/plain": [
       "25"
      ]
     },
     "execution_count": 1,
     "metadata": {},
     "output_type": "execute_result"
    }
   ],
   "source": [
    "# Multiplying and adding numbers\n",
    "result = (5 * 3) + 10\n",
    "result\n"
   ]
  },
  {
   "cell_type": "code",
   "execution_count": null,
   "id": "c5cdf1c3-01bd-44f0-87b5-231821bc97c2",
   "metadata": {},
   "outputs": [],
   "source": [
    "# Convert minutes to hours\n",
    "minutes = 135\n",
    "hours = minutes / 60\n",
    "hours\n"
   ]
  }
 ],
 "metadata": {
  "kernelspec": {
   "display_name": "Python 3 (ipykernel)",
   "language": "python",
   "name": "python3"
  },
  "language_info": {
   "codemirror_mode": {
    "name": "ipython",
    "version": 3
   },
   "file_extension": ".py",
   "mimetype": "text/x-python",
   "name": "python",
   "nbconvert_exporter": "python",
   "pygments_lexer": "ipython3",
   "version": "3.12.7"
  }
 },
 "nbformat": 4,
 "nbformat_minor": 5
}
